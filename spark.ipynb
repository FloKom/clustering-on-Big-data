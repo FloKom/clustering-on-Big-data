{
 "cells": [
  {
   "cell_type": "code",
   "execution_count": 88,
   "metadata": {},
   "outputs": [
    {
     "name": "stdout",
     "output_type": "stream",
     "text": [
      "Requirement already satisfied: pyspark in /home/florian/anaconda3/lib/python3.11/site-packages (3.5.1)\n",
      "Requirement already satisfied: py4j==0.10.9.7 in /home/florian/anaconda3/lib/python3.11/site-packages (from pyspark) (0.10.9.7)\n"
     ]
    }
   ],
   "source": [
    "!pip install pyspark"
   ]
  },
  {
   "cell_type": "code",
   "execution_count": 3,
   "metadata": {},
   "outputs": [],
   "source": [
    "import pyspark\n",
    "import pandas as pd\n",
    "from pyspark.sql.types import *"
   ]
  },
  {
   "cell_type": "code",
   "execution_count": 4,
   "metadata": {},
   "outputs": [],
   "source": [
    "import numpy as np\n",
    "from pyspark.sql import SparkSession\n"
   ]
  },
  {
   "cell_type": "code",
   "execution_count": 13,
   "metadata": {},
   "outputs": [],
   "source": [
    "import sys\n",
    "import math\n",
    "import matplotlib.pyplot as plt"
   ]
  },
  {
   "cell_type": "code",
   "execution_count": 6,
   "metadata": {},
   "outputs": [
    {
     "name": "stderr",
     "output_type": "stream",
     "text": [
      "your 131072x1 screen size is bogus. expect trouble\n",
      "24/03/19 14:53:43 WARN Utils: Your hostname, Florian resolves to a loopback address: 127.0.1.1; using 172.28.140.145 instead (on interface eth0)\n",
      "24/03/19 14:53:43 WARN Utils: Set SPARK_LOCAL_IP if you need to bind to another address\n",
      "Setting default log level to \"WARN\".\n",
      "To adjust logging level use sc.setLogLevel(newLevel). For SparkR, use setLogLevel(newLevel).\n",
      "24/03/19 14:53:45 WARN NativeCodeLoader: Unable to load native-hadoop library for your platform... using builtin-java classes where applicable\n"
     ]
    }
   ],
   "source": [
    "spark=SparkSession.builder.appName('firstapp').getOrCreate()"
   ]
  },
  {
   "cell_type": "code",
   "execution_count": 7,
   "metadata": {},
   "outputs": [],
   "source": [
    "#load the dataset and add an index for each rows\n",
    "data = spark.read.csv('./test.csv', header=True, inferSchema=True)\n",
    "data = data.drop('Name')\n",
    "df = data.toPandas()\n",
    "df_index = pd.DataFrame({'index': range(0, len(df))})\n",
    "result_df = pd.concat([df, df_index], axis=1)\n",
    "data = spark.createDataFrame(result_df)\n",
    "# asf = spark.createDataFrame(ee)\n",
    "# asf.show()"
   ]
  },
  {
   "cell_type": "code",
   "execution_count": 8,
   "metadata": {},
   "outputs": [
    {
     "name": "stderr",
     "output_type": "stream",
     "text": [
      "                                                                                \r"
     ]
    },
    {
     "name": "stdout",
     "output_type": "stream",
     "text": [
      "325\n",
      "525\n",
      "450\n",
      "625\n",
      "500\n",
      "    Age    X   Y    Z  index\n",
      "12  325  180  26   75     12\n",
      "20  525  300  42  123     20\n",
      "17  450  255  36  105     17\n",
      "24  625  360  50  147     24\n",
      "19  500  285  40  117     19\n"
     ]
    },
    {
     "data": {
      "text/plain": [
       "Age      225\n",
       "X        120\n",
       "Y         18\n",
       "Z         51\n",
       "index      8\n",
       "Name: 8, dtype: int64"
      ]
     },
     "execution_count": 8,
     "metadata": {},
     "output_type": "execute_result"
    }
   ],
   "source": [
    "#Select randomly five initials centroids\n",
    "centers = data.toPandas().sample(n=5)\n",
    "for i, ce in centers.iterrows():\n",
    "    print(ce['Age'])\n",
    "print(centers)\n",
    "data.toPandas()[data.toPandas()['index'] == 8].iloc[0]\n",
    "# npCenters = spark.createDataFrame(interDf)\n",
    "# centers = npCenters"
   ]
  },
  {
   "cell_type": "code",
   "execution_count": 10,
   "metadata": {},
   "outputs": [],
   "source": [
    "#Map operation\n",
    "cols = [item for item in data.columns if(item != 'index')]\n",
    "def euclideanDistance(x, y):\n",
    "    dist = 0\n",
    "    for dim in cols:\n",
    "        dist = dist + (float(x[dim]) - float(y[dim]))**2\n",
    "    dist = math.sqrt(dist)\n",
    "    return dist\n",
    "def map(x, cent):\n",
    "    minDist = sys.float_info.max\n",
    "    index = -1\n",
    "    for i, center in cent.iterrows():\n",
    "        distCenter = euclideanDistance(x, center)\n",
    "        if(minDist > distCenter):\n",
    "             minDist = distCenter\n",
    "             index = int(center['index'])\n",
    "        y = x.asDict()\n",
    "        # del y['index']\n",
    "        y['num'] = 1\n",
    "        toSave = Row(**y)         \n",
    "    return (index, toSave)\n",
    "# rdd = data.rdd.map(lambda x: map(x)).groupByKey()\n",
    "# e = rdd.toDF()\n",
    "# for f in e.collect():\n",
    "#     print(f)\n"
   ]
  },
  {
   "cell_type": "code",
   "execution_count": 11,
   "metadata": {},
   "outputs": [],
   "source": [
    "def reduce(a, b):\n",
    "    c = {}\n",
    "    for column in cols:\n",
    "        c[column] = float(a[column]) + float(b[column])\n",
    "    c['num'] = float(a['num']) + float(b['num'])\n",
    "    toSave = Row(**c)\n",
    "    return toSave\n",
    "def computeMean(y):\n",
    "    g = y[1].asDict()\n",
    "    for col in cols:\n",
    "        g[col] = g[col]/g['num']\n",
    "    g['index'] = int(y[0])\n",
    "    return Row(**g)"
   ]
  },
  {
   "cell_type": "code",
   "execution_count": 12,
   "metadata": {},
   "outputs": [
    {
     "name": "stderr",
     "output_type": "stream",
     "text": [
      "                                                                                \r"
     ]
    },
    {
     "name": "stdout",
     "output_type": "stream",
     "text": [
      "(1, 1757.7051188226974)\n",
      "(1, 1266.0192190377643)\n",
      "(1, 1250.6057511160782)\n",
      "(1, 1250.6057511160782)\n",
      "(1, 1250.6057511160782)\n",
      "(1, 1250.6057511160782)\n",
      "(1, 1250.6057511160782)\n",
      "(1, 1250.6057511160782)\n",
      "(1, 1250.6057511160782)\n",
      "(1, 1250.6057511160782)\n",
      "[1757.7051188226974, 1266.0192190377643, 1250.6057511160782, 1250.6057511160782, 1250.6057511160782, 1250.6057511160782, 1250.6057511160782, 1250.6057511160782, 1250.6057511160782, 1250.6057511160782]\n"
     ]
    }
   ],
   "source": [
    "centers = data.toPandas().sample(n=5)\n",
    "valueObjFunc = []\n",
    "for i in range(0, 10):\n",
    "    mapResult = data.rdd.map(lambda x: map(x, centers))\n",
    "    # for value in mapResult.collect():\n",
    "    #     print(value)\n",
    "    reduceResult = mapResult.reduceByKey(lambda a,b: reduce(a, b)).map(lambda q: computeMean(q))\n",
    "    e = reduceResult.toDF()\n",
    "    # for f in e.collect():\n",
    "    #     print(f)\n",
    "    error = mapResult.map(lambda x: (1, euclideanDistance(x[1], centers[centers['index'] == int(x[0])].iloc[0]))).reduceByKey(lambda a,b: a+b)\n",
    "    for p in error.collect():\n",
    "        print(p)\n",
    "        valueObjFunc.append(p[1])\n",
    "    centers = e.toPandas()\n",
    "    # print()\n",
    "    # print()\n",
    "print(valueObjFunc)"
   ]
  },
  {
   "cell_type": "code",
   "execution_count": 17,
   "metadata": {},
   "outputs": [
    {
     "data": {
      "image/png": "[encoded data removed]",
      "text/plain": [
       "<Figure size 640x480 with 1 Axes>"
      ]
     },
     "metadata": {},
     "output_type": "display_data"
    }
   ],
   "source": [
    "# for a in data.rdd.map(lambda x: map(x, centers)).collect():\n",
    "#     print(a)\n",
    "plt.plot(valueObjFunc)\n",
    "plt.xlabel(\"Iteration number\")\n",
    "plt.ylabel(\"Objective function value\")\n",
    "plt.show()"
   ]
  }
 ],
 "metadata": {
  "kernelspec": {
   "display_name": "Python 3 (ipykernel)",
   "language": "python",
   "name": "python3"
  },
  "language_info": {
   "codemirror_mode": {
    "name": "ipython",
    "version": 3
   },
   "file_extension": ".py",
   "mimetype": "text/x-python",
   "name": "python",
   "nbconvert_exporter": "python",
   "pygments_lexer": "ipython3",
   "version": "3.11.7"
  }
 },
 "nbformat": 4,
 "nbformat_minor": 4
}
