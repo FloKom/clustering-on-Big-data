{
 "cells": [
  {
   "cell_type": "code",
   "execution_count": 88,
   "metadata": {},
   "outputs": [
    {
     "name": "stdout",
     "output_type": "stream",
     "text": [
      "Requirement already satisfied: pyspark in /home/florian/anaconda3/lib/python3.11/site-packages (3.5.1)\n",
      "Requirement already satisfied: py4j==0.10.9.7 in /home/florian/anaconda3/lib/python3.11/site-packages (from pyspark) (0.10.9.7)\n"
     ]
    }
   ],
   "source": [
    "!pip install pyspark"
   ]
  },
  {
   "cell_type": "code",
   "execution_count": 141,
   "metadata": {},
   "outputs": [],
   "source": [
    "import pyspark\n",
    "import pandas as pd\n",
    "from pyspark.sql.types import *"
   ]
  },
  {
   "cell_type": "code",
   "execution_count": 142,
   "metadata": {},
   "outputs": [],
   "source": [
    "import numpy as np\n",
    "from pyspark.sql import SparkSession\n"
   ]
  },
  {
   "cell_type": "code",
   "execution_count": 143,
   "metadata": {},
   "outputs": [],
   "source": [
    "import sys\n",
    "import math"
   ]
  },
  {
   "cell_type": "code",
   "execution_count": 144,
   "metadata": {},
   "outputs": [],
   "source": [
    "spark=SparkSession.builder.appName('firstapp').getOrCreate()"
   ]
  },
  {
   "cell_type": "code",
   "execution_count": 231,
   "metadata": {},
   "outputs": [],
   "source": [
    "#load the dataset and add an index for each rows\n",
    "data = spark.read.csv('./test.csv', header=True, inferSchema=True)\n",
    "data = data.drop('Name')\n",
    "df = data.toPandas()\n",
    "df_index = pd.DataFrame({'index': range(0, len(df))})\n",
    "result_df = pd.concat([df, df_index], axis=1)\n",
    "data = spark.createDataFrame(result_df)\n",
    "# asf = spark.createDataFrame(ee)\n",
    "# asf.show()"
   ]
  },
  {
   "cell_type": "code",
   "execution_count": 265,
   "metadata": {},
   "outputs": [
    {
     "name": "stdout",
     "output_type": "stream",
     "text": [
      "75\n",
      "200\n",
      "400\n",
      "450\n",
      "675\n",
      "    Age    X   Y    Z  index\n",
      "2    75   30   6   15      2\n",
      "7   200  105  16   45      7\n",
      "15  400  225  32   93     15\n",
      "17  450  255  36  105     17\n",
      "26  675  390  54  159     26\n"
     ]
    },
    {
     "data": {
      "text/plain": [
       "Age      225\n",
       "X        120\n",
       "Y         18\n",
       "Z         51\n",
       "index      8\n",
       "Name: 8, dtype: int64"
      ]
     },
     "execution_count": 265,
     "metadata": {},
     "output_type": "execute_result"
    }
   ],
   "source": [
    "#Select randomly five initials centroids\n",
    "centers = data.toPandas().sample(n=5)\n",
    "for i, ce in centers.iterrows():\n",
    "    print(ce['Age'])\n",
    "print(centers)\n",
    "data.toPandas()[data.toPandas()['index'] == 8].iloc[0]\n",
    "# npCenters = spark.createDataFrame(interDf)\n",
    "# centers = npCenters"
   ]
  },
  {
   "cell_type": "code",
   "execution_count": 253,
   "metadata": {},
   "outputs": [],
   "source": [
    "#Map operation\n",
    "cols = [item for item in data.columns if(item != 'index')]\n",
    "def euclideanDistance(x, y):\n",
    "    dist = 0\n",
    "    for dim in cols:\n",
    "        dist = dist + (float(x[dim]) - float(y[dim]))**2\n",
    "    dist = math.sqrt(dist)\n",
    "    return dist\n",
    "def map(x, cent):\n",
    "    minDist = sys.float_info.max\n",
    "    index = -1\n",
    "    for i, center in cent.iterrows():\n",
    "        distCenter = euclideanDistance(x, center)\n",
    "        if(minDist > distCenter):\n",
    "             minDist = distCenter\n",
    "             index = int(center['index'])\n",
    "        y = x.asDict()\n",
    "        # del y['index']\n",
    "        y['num'] = 1\n",
    "        toSave = Row(**y)         \n",
    "    return (index, toSave)\n",
    "# rdd = data.rdd.map(lambda x: map(x)).groupByKey()\n",
    "# e = rdd.toDF()\n",
    "# for f in e.collect():\n",
    "#     print(f)\n"
   ]
  },
  {
   "cell_type": "code",
   "execution_count": 254,
   "metadata": {},
   "outputs": [],
   "source": [
    "def reduce(a, b):\n",
    "    c = {}\n",
    "    for column in cols:\n",
    "        c[column] = float(a[column]) + float(b[column])\n",
    "    c['num'] = float(a['num']) + float(b['num'])\n",
    "    toSave = Row(**c)\n",
    "    return toSave\n",
    "def computeMean(y):\n",
    "    g = y[1].asDict()\n",
    "    for col in cols:\n",
    "        g[col] = g[col]/g['num']\n",
    "    g['index'] = int(y[0])\n",
    "    return Row(**g)"
   ]
  },
  {
   "cell_type": "code",
   "execution_count": 268,
   "metadata": {},
   "outputs": [
    {
     "name": "stderr",
     "output_type": "stream",
     "text": [
      "                                                                                \r"
     ]
    },
    {
     "name": "stdout",
     "output_type": "stream",
     "text": [
      "(11, Row(Age=25, X=5, Y=2, Z=3, index=0, num=1))\n",
      "(11, Row(Age=50, X=15, Y=4, Z=9, index=1, num=1))\n",
      "(11, Row(Age=75, X=30, Y=6, Z=15, index=2, num=1))\n",
      "(11, Row(Age=100, X=45, Y=8, Z=21, index=3, num=1))\n",
      "(11, Row(Age=125, X=60, Y=10, Z=27, index=4, num=1))\n",
      "(11, Row(Age=150, X=75, Y=12, Z=33, index=5, num=1))\n",
      "(11, Row(Age=175, X=90, Y=14, Z=39, index=6, num=1))\n",
      "(11, Row(Age=200, X=105, Y=16, Z=45, index=7, num=1))\n",
      "(11, Row(Age=225, X=120, Y=18, Z=51, index=8, num=1))\n",
      "(11, Row(Age=250, X=135, Y=20, Z=57, index=9, num=1))\n",
      "(11, Row(Age=275, X=150, Y=22, Z=63, index=10, num=1))\n",
      "(11, Row(Age=300, X=165, Y=24, Z=69, index=11, num=1))\n",
      "(11, Row(Age=325, X=180, Y=26, Z=75, index=12, num=1))\n",
      "(13, Row(Age=350, X=195, Y=28, Z=81, index=13, num=1))\n",
      "(13, Row(Age=375, X=210, Y=30, Z=87, index=14, num=1))\n",
      "(17, Row(Age=400, X=225, Y=32, Z=93, index=15, num=1))\n",
      "(17, Row(Age=425, X=240, Y=34, Z=99, index=16, num=1))\n",
      "(17, Row(Age=450, X=255, Y=36, Z=105, index=17, num=1))\n",
      "(17, Row(Age=475, X=270, Y=38, Z=111, index=18, num=1))\n",
      "(17, Row(Age=500, X=285, Y=40, Z=117, index=19, num=1))\n",
      "(21, Row(Age=525, X=300, Y=42, Z=123, index=20, num=1))\n",
      "(21, Row(Age=550, X=315, Y=44, Z=129, index=21, num=1))\n",
      "(23, Row(Age=575, X=330, Y=46, Z=135, index=22, num=1))\n",
      "(23, Row(Age=600, X=345, Y=48, Z=141, index=23, num=1))\n",
      "(23, Row(Age=625, X=360, Y=50, Z=147, index=24, num=1))\n",
      "(23, Row(Age=650, X=375, Y=52, Z=153, index=25, num=1))\n",
      "(23, Row(Age=675, X=390, Y=54, Z=159, index=26, num=1))\n",
      "(23, Row(Age=700, X=405, Y=56, Z=165, index=27, num=1))\n",
      "(23, Row(Age=725, X=420, Y=58, Z=171, index=28, num=1))\n"
     ]
    },
    {
     "name": "stderr",
     "output_type": "stream",
     "text": [
      "                                                                                \r"
     ]
    },
    {
     "name": "stdout",
     "output_type": "stream",
     "text": [
      "(1, 2712.3056420083303)\n"
     ]
    },
    {
     "name": "stderr",
     "output_type": "stream",
     "text": [
      "                                                                                \r"
     ]
    },
    {
     "name": "stdout",
     "output_type": "stream",
     "text": [
      "Row(Age=537.5, X=307.5, Y=43.0, Z=126.0, num=2.0, index=21)\n",
      "Row(Age=650.0, X=375.0, Y=52.0, Z=153.0, num=7.0, index=23)\n",
      "Row(Age=175.0, X=90.38461538461539, Y=14.0, Z=39.0, num=13.0, index=11)\n",
      "Row(Age=362.5, X=202.5, Y=29.0, Z=84.0, num=2.0, index=13)\n",
      "Row(Age=450.0, X=255.0, Y=36.0, Z=105.0, num=5.0, index=17)\n",
      "\n",
      "\n",
      "(11, Row(Age=25, X=5, Y=2, Z=3, index=0, num=1))\n",
      "(11, Row(Age=50, X=15, Y=4, Z=9, index=1, num=1))\n",
      "(11, Row(Age=75, X=30, Y=6, Z=15, index=2, num=1))\n",
      "(11, Row(Age=100, X=45, Y=8, Z=21, index=3, num=1))\n",
      "(11, Row(Age=125, X=60, Y=10, Z=27, index=4, num=1))\n",
      "(11, Row(Age=150, X=75, Y=12, Z=33, index=5, num=1))\n",
      "(11, Row(Age=175, X=90, Y=14, Z=39, index=6, num=1))\n",
      "(11, Row(Age=200, X=105, Y=16, Z=45, index=7, num=1))\n",
      "(11, Row(Age=225, X=120, Y=18, Z=51, index=8, num=1))\n",
      "(11, Row(Age=250, X=135, Y=20, Z=57, index=9, num=1))\n",
      "(13, Row(Age=275, X=150, Y=22, Z=63, index=10, num=1))\n",
      "(13, Row(Age=300, X=165, Y=24, Z=69, index=11, num=1))\n",
      "(13, Row(Age=325, X=180, Y=26, Z=75, index=12, num=1))\n",
      "(13, Row(Age=350, X=195, Y=28, Z=81, index=13, num=1))\n",
      "(13, Row(Age=375, X=210, Y=30, Z=87, index=14, num=1))\n",
      "(13, Row(Age=400, X=225, Y=32, Z=93, index=15, num=1))\n",
      "(17, Row(Age=425, X=240, Y=34, Z=99, index=16, num=1))\n",
      "(17, Row(Age=450, X=255, Y=36, Z=105, index=17, num=1))\n",
      "(17, Row(Age=475, X=270, Y=38, Z=111, index=18, num=1))\n",
      "(21, Row(Age=500, X=285, Y=40, Z=117, index=19, num=1))\n",
      "(21, Row(Age=525, X=300, Y=42, Z=123, index=20, num=1))\n",
      "(21, Row(Age=550, X=315, Y=44, Z=129, index=21, num=1))\n",
      "(21, Row(Age=575, X=330, Y=46, Z=135, index=22, num=1))\n",
      "(23, Row(Age=600, X=345, Y=48, Z=141, index=23, num=1))\n",
      "(23, Row(Age=625, X=360, Y=50, Z=147, index=24, num=1))\n",
      "(23, Row(Age=650, X=375, Y=52, Z=153, index=25, num=1))\n",
      "(23, Row(Age=675, X=390, Y=54, Z=159, index=26, num=1))\n",
      "(23, Row(Age=700, X=405, Y=56, Z=165, index=27, num=1))\n",
      "(23, Row(Age=725, X=420, Y=58, Z=171, index=28, num=1))\n"
     ]
    },
    {
     "name": "stderr",
     "output_type": "stream",
     "text": [
      "                                                                                \r"
     ]
    },
    {
     "name": "stdout",
     "output_type": "stream",
     "text": [
      "(1, 1549.8125528015667)\n",
      "Row(Age=537.5, X=307.5, Y=43.0, Z=126.0, num=4.0, index=21)\n",
      "Row(Age=662.5, X=382.5, Y=53.0, Z=156.0, num=6.0, index=23)\n",
      "Row(Age=137.5, X=68.0, Y=11.0, Z=30.0, num=10.0, index=11)\n",
      "Row(Age=337.5, X=187.5, Y=27.0, Z=78.0, num=6.0, index=13)\n",
      "Row(Age=450.0, X=255.0, Y=36.0, Z=105.0, num=3.0, index=17)\n",
      "\n",
      "\n"
     ]
    },
    {
     "name": "stderr",
     "output_type": "stream",
     "text": [
      "                                                                                \r"
     ]
    },
    {
     "name": "stdout",
     "output_type": "stream",
     "text": [
      "(11, Row(Age=25, X=5, Y=2, Z=3, index=0, num=1))\n",
      "(11, Row(Age=50, X=15, Y=4, Z=9, index=1, num=1))\n",
      "(11, Row(Age=75, X=30, Y=6, Z=15, index=2, num=1))\n",
      "(11, Row(Age=100, X=45, Y=8, Z=21, index=3, num=1))\n",
      "(11, Row(Age=125, X=60, Y=10, Z=27, index=4, num=1))\n",
      "(11, Row(Age=150, X=75, Y=12, Z=33, index=5, num=1))\n",
      "(11, Row(Age=175, X=90, Y=14, Z=39, index=6, num=1))\n",
      "(11, Row(Age=200, X=105, Y=16, Z=45, index=7, num=1))\n",
      "(11, Row(Age=225, X=120, Y=18, Z=51, index=8, num=1))\n",
      "(13, Row(Age=250, X=135, Y=20, Z=57, index=9, num=1))\n",
      "(13, Row(Age=275, X=150, Y=22, Z=63, index=10, num=1))\n",
      "(13, Row(Age=300, X=165, Y=24, Z=69, index=11, num=1))\n",
      "(13, Row(Age=325, X=180, Y=26, Z=75, index=12, num=1))\n",
      "(13, Row(Age=350, X=195, Y=28, Z=81, index=13, num=1))\n",
      "(13, Row(Age=375, X=210, Y=30, Z=87, index=14, num=1))\n",
      "(17, Row(Age=400, X=225, Y=32, Z=93, index=15, num=1))\n",
      "(17, Row(Age=425, X=240, Y=34, Z=99, index=16, num=1))\n",
      "(17, Row(Age=450, X=255, Y=36, Z=105, index=17, num=1))\n",
      "(17, Row(Age=475, X=270, Y=38, Z=111, index=18, num=1))\n",
      "(21, Row(Age=500, X=285, Y=40, Z=117, index=19, num=1))\n",
      "(21, Row(Age=525, X=300, Y=42, Z=123, index=20, num=1))\n",
      "(21, Row(Age=550, X=315, Y=44, Z=129, index=21, num=1))\n",
      "(21, Row(Age=575, X=330, Y=46, Z=135, index=22, num=1))\n",
      "(21, Row(Age=600, X=345, Y=48, Z=141, index=23, num=1))\n",
      "(23, Row(Age=625, X=360, Y=50, Z=147, index=24, num=1))\n",
      "(23, Row(Age=650, X=375, Y=52, Z=153, index=25, num=1))\n",
      "(23, Row(Age=675, X=390, Y=54, Z=159, index=26, num=1))\n",
      "(23, Row(Age=700, X=405, Y=56, Z=165, index=27, num=1))\n",
      "(23, Row(Age=725, X=420, Y=58, Z=171, index=28, num=1))\n",
      "(1, 1414.8769131354322)\n",
      "Row(Age=550.0, X=315.0, Y=44.0, Z=129.0, num=5.0, index=21)\n",
      "Row(Age=675.0, X=390.0, Y=54.0, Z=159.0, num=5.0, index=23)\n",
      "Row(Age=125.0, X=60.55555555555556, Y=10.0, Z=27.0, num=9.0, index=11)\n",
      "Row(Age=312.5, X=172.5, Y=25.0, Z=72.0, num=6.0, index=13)\n",
      "Row(Age=437.5, X=247.5, Y=35.0, Z=102.0, num=4.0, index=17)\n",
      "\n",
      "\n",
      "(11, Row(Age=25, X=5, Y=2, Z=3, index=0, num=1))\n",
      "(11, Row(Age=50, X=15, Y=4, Z=9, index=1, num=1))\n",
      "(11, Row(Age=75, X=30, Y=6, Z=15, index=2, num=1))\n",
      "(11, Row(Age=100, X=45, Y=8, Z=21, index=3, num=1))\n",
      "(11, Row(Age=125, X=60, Y=10, Z=27, index=4, num=1))\n",
      "(11, Row(Age=150, X=75, Y=12, Z=33, index=5, num=1))\n",
      "(11, Row(Age=175, X=90, Y=14, Z=39, index=6, num=1))\n",
      "(11, Row(Age=200, X=105, Y=16, Z=45, index=7, num=1))\n",
      "(13, Row(Age=225, X=120, Y=18, Z=51, index=8, num=1))\n",
      "(13, Row(Age=250, X=135, Y=20, Z=57, index=9, num=1))\n",
      "(13, Row(Age=275, X=150, Y=22, Z=63, index=10, num=1))\n",
      "(13, Row(Age=300, X=165, Y=24, Z=69, index=11, num=1))\n",
      "(13, Row(Age=325, X=180, Y=26, Z=75, index=12, num=1))\n",
      "(13, Row(Age=350, X=195, Y=28, Z=81, index=13, num=1))\n",
      "(13, Row(Age=375, X=210, Y=30, Z=87, index=14, num=1))\n",
      "(17, Row(Age=400, X=225, Y=32, Z=93, index=15, num=1))\n",
      "(17, Row(Age=425, X=240, Y=34, Z=99, index=16, num=1))\n",
      "(17, Row(Age=450, X=255, Y=36, Z=105, index=17, num=1))\n",
      "(17, Row(Age=475, X=270, Y=38, Z=111, index=18, num=1))\n",
      "(21, Row(Age=500, X=285, Y=40, Z=117, index=19, num=1))\n",
      "(21, Row(Age=525, X=300, Y=42, Z=123, index=20, num=1))\n",
      "(21, Row(Age=550, X=315, Y=44, Z=129, index=21, num=1))\n",
      "(21, Row(Age=575, X=330, Y=46, Z=135, index=22, num=1))\n",
      "(21, Row(Age=600, X=345, Y=48, Z=141, index=23, num=1))\n",
      "(23, Row(Age=625, X=360, Y=50, Z=147, index=24, num=1))\n",
      "(23, Row(Age=650, X=375, Y=52, Z=153, index=25, num=1))\n",
      "(23, Row(Age=675, X=390, Y=54, Z=159, index=26, num=1))\n",
      "(23, Row(Age=700, X=405, Y=56, Z=165, index=27, num=1))\n",
      "(23, Row(Age=725, X=420, Y=58, Z=171, index=28, num=1))\n",
      "(1, 1325.9606772682807)\n",
      "Row(Age=550.0, X=315.0, Y=44.0, Z=129.0, num=5.0, index=21)\n",
      "Row(Age=675.0, X=390.0, Y=54.0, Z=159.0, num=5.0, index=23)\n",
      "Row(Age=112.5, X=53.125, Y=9.0, Z=24.0, num=8.0, index=11)\n",
      "Row(Age=300.0, X=165.0, Y=24.0, Z=69.0, num=7.0, index=13)\n",
      "Row(Age=437.5, X=247.5, Y=35.0, Z=102.0, num=4.0, index=17)\n",
      "\n",
      "\n",
      "(11, Row(Age=25, X=5, Y=2, Z=3, index=0, num=1))\n",
      "(11, Row(Age=50, X=15, Y=4, Z=9, index=1, num=1))\n",
      "(11, Row(Age=75, X=30, Y=6, Z=15, index=2, num=1))\n",
      "(11, Row(Age=100, X=45, Y=8, Z=21, index=3, num=1))\n",
      "(11, Row(Age=125, X=60, Y=10, Z=27, index=4, num=1))\n",
      "(11, Row(Age=150, X=75, Y=12, Z=33, index=5, num=1))\n",
      "(11, Row(Age=175, X=90, Y=14, Z=39, index=6, num=1))\n",
      "(11, Row(Age=200, X=105, Y=16, Z=45, index=7, num=1))\n",
      "(13, Row(Age=225, X=120, Y=18, Z=51, index=8, num=1))\n",
      "(13, Row(Age=250, X=135, Y=20, Z=57, index=9, num=1))\n",
      "(13, Row(Age=275, X=150, Y=22, Z=63, index=10, num=1))\n",
      "(13, Row(Age=300, X=165, Y=24, Z=69, index=11, num=1))\n",
      "(13, Row(Age=325, X=180, Y=26, Z=75, index=12, num=1))\n",
      "(13, Row(Age=350, X=195, Y=28, Z=81, index=13, num=1))\n",
      "(17, Row(Age=375, X=210, Y=30, Z=87, index=14, num=1))\n",
      "(17, Row(Age=400, X=225, Y=32, Z=93, index=15, num=1))\n",
      "(17, Row(Age=425, X=240, Y=34, Z=99, index=16, num=1))\n",
      "(17, Row(Age=450, X=255, Y=36, Z=105, index=17, num=1))\n",
      "(17, Row(Age=475, X=270, Y=38, Z=111, index=18, num=1))\n",
      "(21, Row(Age=500, X=285, Y=40, Z=117, index=19, num=1))\n",
      "(21, Row(Age=525, X=300, Y=42, Z=123, index=20, num=1))\n",
      "(21, Row(Age=550, X=315, Y=44, Z=129, index=21, num=1))\n",
      "(21, Row(Age=575, X=330, Y=46, Z=135, index=22, num=1))\n",
      "(21, Row(Age=600, X=345, Y=48, Z=141, index=23, num=1))\n",
      "(23, Row(Age=625, X=360, Y=50, Z=147, index=24, num=1))\n",
      "(23, Row(Age=650, X=375, Y=52, Z=153, index=25, num=1))\n",
      "(23, Row(Age=675, X=390, Y=54, Z=159, index=26, num=1))\n",
      "(23, Row(Age=700, X=405, Y=56, Z=165, index=27, num=1))\n",
      "(23, Row(Age=725, X=420, Y=58, Z=171, index=28, num=1))\n",
      "(1, 1295.317084662112)\n",
      "Row(Age=550.0, X=315.0, Y=44.0, Z=129.0, num=5.0, index=21)\n",
      "Row(Age=675.0, X=390.0, Y=54.0, Z=159.0, num=5.0, index=23)\n",
      "Row(Age=112.5, X=53.125, Y=9.0, Z=24.0, num=8.0, index=11)\n",
      "Row(Age=287.5, X=157.5, Y=23.0, Z=66.0, num=6.0, index=13)\n",
      "Row(Age=425.0, X=240.0, Y=34.0, Z=99.0, num=5.0, index=17)\n",
      "\n",
      "\n"
     ]
    }
   ],
   "source": [
    "centers = data.toPandas().sample(n=5)\n",
    "for i in range(0, 5):\n",
    "    mapResult = data.rdd.map(lambda x: map(x, centers))\n",
    "    for value in mapResult.collect():\n",
    "        print(value)\n",
    "    error = mapResult.map(lambda x: (1, euclideanDistance(x[1], centers[centers['index'] == int(x[0])].iloc[0]))).reduceByKey(lambda a,b: a+b)\n",
    "    for p in error.collect():\n",
    "        print(p)\n",
    "    reduceResult = mapResult.reduceByKey(lambda a,b: reduce(a, b)).map(lambda q: computeMean(q))\n",
    "    e = reduceResult.toDF()\n",
    "    for f in e.collect():\n",
    "        print(f)\n",
    "    print()\n",
    "    print()\n",
    "    centers = e.toPandas()"
   ]
  },
  {
   "cell_type": "code",
   "execution_count": 198,
   "metadata": {},
   "outputs": [
    {
     "name": "stderr",
     "output_type": "stream",
     "text": [
      "[Stage 1429:================================================>     (18 + 2) / 20]\r"
     ]
    },
    {
     "name": "stdout",
     "output_type": "stream",
     "text": [
      "(0, Row(Age=25, X=5, Y=2, Z=3, index=0, num=1))\n",
      "(0, Row(Age=50, X=15, Y=4, Z=9, index=1, num=1))\n",
      "(0, Row(Age=75, X=30, Y=6, Z=15, index=2, num=1))\n",
      "(0, Row(Age=100, X=45, Y=8, Z=21, index=3, num=1))\n",
      "(0, Row(Age=125, X=60, Y=10, Z=27, index=4, num=1))\n",
      "(0, Row(Age=150, X=75, Y=12, Z=33, index=5, num=1))\n",
      "(0, Row(Age=175, X=90, Y=14, Z=39, index=6, num=1))\n",
      "(13, Row(Age=200, X=105, Y=16, Z=45, index=7, num=1))\n",
      "(13, Row(Age=225, X=120, Y=18, Z=51, index=8, num=1))\n",
      "(13, Row(Age=250, X=135, Y=20, Z=57, index=9, num=1))\n",
      "(13, Row(Age=275, X=150, Y=22, Z=63, index=10, num=1))\n",
      "(13, Row(Age=300, X=165, Y=24, Z=69, index=11, num=1))\n",
      "(13, Row(Age=325, X=180, Y=26, Z=75, index=12, num=1))\n",
      "(13, Row(Age=350, X=195, Y=28, Z=81, index=13, num=1))\n",
      "(13, Row(Age=375, X=210, Y=30, Z=87, index=14, num=1))\n",
      "(13, Row(Age=400, X=225, Y=32, Z=93, index=15, num=1))\n",
      "(19, Row(Age=425, X=240, Y=34, Z=99, index=16, num=1))\n",
      "(19, Row(Age=450, X=255, Y=36, Z=105, index=17, num=1))\n",
      "(19, Row(Age=475, X=270, Y=38, Z=111, index=18, num=1))\n",
      "(19, Row(Age=500, X=285, Y=40, Z=117, index=19, num=1))\n",
      "(19, Row(Age=525, X=300, Y=42, Z=123, index=20, num=1))\n",
      "(19, Row(Age=550, X=315, Y=44, Z=129, index=21, num=1))\n",
      "(19, Row(Age=575, X=330, Y=46, Z=135, index=22, num=1))\n",
      "(25, Row(Age=600, X=345, Y=48, Z=141, index=23, num=1))\n",
      "(25, Row(Age=625, X=360, Y=50, Z=147, index=24, num=1))\n",
      "(25, Row(Age=650, X=375, Y=52, Z=153, index=25, num=1))\n",
      "(25, Row(Age=675, X=390, Y=54, Z=159, index=26, num=1))\n",
      "(28, Row(Age=700, X=405, Y=56, Z=165, index=27, num=1))\n",
      "(28, Row(Age=725, X=420, Y=58, Z=171, index=28, num=1))\n"
     ]
    },
    {
     "name": "stderr",
     "output_type": "stream",
     "text": [
      "                                                                                \r"
     ]
    }
   ],
   "source": [
    "for a in data.rdd.map(lambda x: map(x, centers)).collect():\n",
    "    print(a)\n"
   ]
  }
 ],
 "metadata": {
  "kernelspec": {
   "display_name": "Python 3 (ipykernel)",
   "language": "python",
   "name": "python3"
  },
  "language_info": {
   "codemirror_mode": {
    "name": "ipython",
    "version": 3
   },
   "file_extension": ".py",
   "mimetype": "text/x-python",
   "name": "python",
   "nbconvert_exporter": "python",
   "pygments_lexer": "ipython3",
   "version": "3.11.7"
  }
 },
 "nbformat": 4,
 "nbformat_minor": 4
}
