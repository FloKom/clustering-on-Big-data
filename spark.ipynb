{
 "cells": [
  {
   "cell_type": "code",
   "execution_count": 88,
   "metadata": {},
   "outputs": [
    {
     "name": "stdout",
     "output_type": "stream",
     "text": [
      "Requirement already satisfied: pyspark in /home/florian/anaconda3/lib/python3.11/site-packages (3.5.1)\n",
      "Requirement already satisfied: py4j==0.10.9.7 in /home/florian/anaconda3/lib/python3.11/site-packages (from pyspark) (0.10.9.7)\n"
     ]
    }
   ],
   "source": [
    "!pip install pyspark"
   ]
  },
  {
   "cell_type": "code",
   "execution_count": 89,
   "metadata": {},
   "outputs": [],
   "source": [
    "import pyspark\n",
    "import pandas as pd\n",
    "from pyspark.sql.types import *"
   ]
  },
  {
   "cell_type": "code",
   "execution_count": 90,
   "metadata": {},
   "outputs": [],
   "source": [
    "import numpy as np\n",
    "from pyspark.sql import SparkSession\n"
   ]
  },
  {
   "cell_type": "code",
   "execution_count": 91,
   "metadata": {},
   "outputs": [],
   "source": [
    "import sys\n",
    "import math"
   ]
  },
  {
   "cell_type": "code",
   "execution_count": 92,
   "metadata": {},
   "outputs": [],
   "source": [
    "spark=SparkSession.builder.appName('firstapp').getOrCreate()"
   ]
  },
  {
   "cell_type": "code",
   "execution_count": 93,
   "metadata": {},
   "outputs": [],
   "source": [
    "#load the dataset and add an index for each rows\n",
    "data = spark.read.csv('./test.csv', header=True, inferSchema=True)\n",
    "data = data.drop('Name')\n",
    "df = data.toPandas()\n",
    "df_index = pd.DataFrame({'index': range(0, len(df))})\n",
    "result_df = pd.concat([df, df_index], axis=1)\n",
    "data = spark.createDataFrame(result_df)\n",
    "# asf = spark.createDataFrame(ee)\n",
    "# asf.show()"
   ]
  },
  {
   "cell_type": "code",
   "execution_count": 94,
   "metadata": {},
   "outputs": [
    {
     "data": {
      "text/html": [
       "<div>\n",
       "<style scoped>\n",
       "    .dataframe tbody tr th:only-of-type {\n",
       "        vertical-align: middle;\n",
       "    }\n",
       "\n",
       "    .dataframe tbody tr th {\n",
       "        vertical-align: top;\n",
       "    }\n",
       "\n",
       "    .dataframe thead th {\n",
       "        text-align: right;\n",
       "    }\n",
       "</style>\n",
       "<table border=\"1\" class=\"dataframe\">\n",
       "  <thead>\n",
       "    <tr style=\"text-align: right;\">\n",
       "      <th></th>\n",
       "      <th>Age</th>\n",
       "      <th>X</th>\n",
       "      <th>Y</th>\n",
       "      <th>Z</th>\n",
       "      <th>index</th>\n",
       "    </tr>\n",
       "  </thead>\n",
       "  <tbody>\n",
       "    <tr>\n",
       "      <th>20</th>\n",
       "      <td>525</td>\n",
       "      <td>300</td>\n",
       "      <td>42</td>\n",
       "      <td>123</td>\n",
       "      <td>20</td>\n",
       "    </tr>\n",
       "    <tr>\n",
       "      <th>19</th>\n",
       "      <td>500</td>\n",
       "      <td>285</td>\n",
       "      <td>40</td>\n",
       "      <td>117</td>\n",
       "      <td>19</td>\n",
       "    </tr>\n",
       "    <tr>\n",
       "      <th>23</th>\n",
       "      <td>600</td>\n",
       "      <td>345</td>\n",
       "      <td>48</td>\n",
       "      <td>141</td>\n",
       "      <td>23</td>\n",
       "    </tr>\n",
       "    <tr>\n",
       "      <th>8</th>\n",
       "      <td>225</td>\n",
       "      <td>120</td>\n",
       "      <td>18</td>\n",
       "      <td>51</td>\n",
       "      <td>8</td>\n",
       "    </tr>\n",
       "    <tr>\n",
       "      <th>9</th>\n",
       "      <td>250</td>\n",
       "      <td>135</td>\n",
       "      <td>20</td>\n",
       "      <td>57</td>\n",
       "      <td>9</td>\n",
       "    </tr>\n",
       "  </tbody>\n",
       "</table>\n",
       "</div>"
      ],
      "text/plain": [
       "    Age    X   Y    Z  index\n",
       "20  525  300  42  123     20\n",
       "19  500  285  40  117     19\n",
       "23  600  345  48  141     23\n",
       "8   225  120  18   51      8\n",
       "9   250  135  20   57      9"
      ]
     },
     "execution_count": 94,
     "metadata": {},
     "output_type": "execute_result"
    }
   ],
   "source": [
    "#Select randomly five initials centroids\n",
    "centers = data.toPandas().sample(n=5)\n",
    "centers\n",
    "# npCenters = spark.createDataFrame(interDf)\n",
    "# centers = npCenters"
   ]
  },
  {
   "cell_type": "code",
   "execution_count": 121,
   "metadata": {},
   "outputs": [],
   "source": [
    "#Map operation\n",
    "cols = [item for item in data.columns if(item != 'index')]\n",
    "def euclideanDistance(x, y):\n",
    "    dist = 0\n",
    "    for dim in cols:\n",
    "        dist = dist + (x[dim] - y[dim])**2\n",
    "    dist = math.sqrt(dist)\n",
    "    return dist\n",
    "def map(x, cent):\n",
    "    minDist = sys.float_info.max\n",
    "    index = -1\n",
    "    for i, center in cent.iterrows():\n",
    "        distCenter = euclideanDistance(x, center)\n",
    "        if(minDist > distCenter):\n",
    "             minDist = distCenter\n",
    "             index = i\n",
    "        y = x.asDict()\n",
    "        # del y['index']\n",
    "        y['num'] = 1\n",
    "        toSave = Row(**y)         \n",
    "    return (index, toSave)\n",
    "# rdd = data.rdd.map(lambda x: map(x)).groupByKey()\n",
    "# e = rdd.toDF()\n",
    "# for f in e.collect():\n",
    "#     print(f)\n"
   ]
  },
  {
   "cell_type": "code",
   "execution_count": 122,
   "metadata": {},
   "outputs": [],
   "source": [
    "def reduce(a, b):\n",
    "    c = {}\n",
    "    for column in cols:\n",
    "        c[column] = float(a[column]) + float(b[column])\n",
    "    c['num'] = float(a['num']) + float(b['num'])\n",
    "    toSave = Row(**c)\n",
    "    return toSave\n",
    "def computeMean(y):\n",
    "    g = y[1].asDict()\n",
    "    for col in cols:\n",
    "        g[col] = g[col]/g['num']\n",
    "    g['index'] = y[0]\n",
    "    return Row(**g)"
   ]
  },
  {
   "cell_type": "code",
   "execution_count": null,
   "metadata": {},
   "outputs": [],
   "source": [
    "def objFunction(x,cent):\n",
    "    result = 0\n",
    "    for i, center in cent.iterrows():\n",
    "        result = euclideanDistance(x, center) + result"
   ]
  },
  {
   "cell_type": "code",
   "execution_count": 124,
   "metadata": {},
   "outputs": [
    {
     "name": "stderr",
     "output_type": "stream",
     "text": [
      "                                                                                \r"
     ]
    },
    {
     "name": "stdout",
     "output_type": "stream",
     "text": [
      "Row(Age=50.0, X=16.666666666666668, Y=4.0, Z=9.0, num=3.0, index=1)\n",
      "Row(Age=100.0, X=45.0, Y=8.0, Z=21.0, num=None, index=1)\n",
      "Row(Age=125.0, X=60.0, Y=10.0, Z=27.0, num=None, index=1)\n",
      "Row(Age=200.0, X=105.0, Y=16.0, Z=45.0, num=5.0, index=6)\n",
      "Row(Age=500.0, X=285.0, Y=40.0, Z=117.0, num=19.0, index=13)\n",
      "\n",
      "\n"
     ]
    },
    {
     "name": "stderr",
     "output_type": "stream",
     "text": [
      "                                                                                \r"
     ]
    },
    {
     "name": "stdout",
     "output_type": "stream",
     "text": [
      "Row(Age=50.0, X=16.666666666666668, Y=4.0, Z=9.0, num=3.0, index=0)\n",
      "Row(Age=100.0, X=45.0, Y=8.0, Z=21.0, num=None, index=1)\n",
      "Row(Age=137.5, X=67.5, Y=11.0, Z=30.0, num=2.0, index=2)\n",
      "Row(Age=262.5, X=142.5, Y=21.0, Z=60.0, num=8.0, index=3)\n",
      "Row(Age=550.0, X=315.0, Y=44.0, Z=129.0, num=15.0, index=4)\n",
      "\n",
      "\n",
      "Row(Age=50.0, X=16.666666666666668, Y=4.0, Z=9.0, num=3.0, index=0)\n",
      "Row(Age=100.0, X=45.0, Y=8.0, Z=21.0, num=None, index=1)\n",
      "Row(Age=162.5, X=82.5, Y=13.0, Z=36.0, num=4.0, index=2)\n",
      "Row(Age=312.5, X=172.5, Y=25.0, Z=72.0, num=8.0, index=3)\n",
      "Row(Age=575.0, X=330.0, Y=46.0, Z=135.0, num=13.0, index=4)\n",
      "\n",
      "\n",
      "Row(Age=50.0, X=16.666666666666668, Y=4.0, Z=9.0, num=3.0, index=0)\n",
      "Row(Age=112.5, X=52.5, Y=9.0, Z=24.0, num=2.0, index=1)\n",
      "Row(Age=187.5, X=97.5, Y=15.0, Z=42.0, num=4.0, index=2)\n",
      "Row(Age=337.5, X=187.5, Y=27.0, Z=78.0, num=8.0, index=3)\n",
      "Row(Age=587.5, X=337.5, Y=47.0, Z=138.0, num=12.0, index=4)\n",
      "\n",
      "\n",
      "Row(Age=50.0, X=16.666666666666668, Y=4.0, Z=9.0, num=3.0, index=0)\n",
      "Row(Age=125.0, X=60.0, Y=10.0, Z=27.0, num=3.0, index=1)\n",
      "Row(Age=212.5, X=112.5, Y=17.0, Z=48.0, num=4.0, index=2)\n",
      "Row(Age=362.5, X=202.5, Y=29.0, Z=84.0, num=8.0, index=3)\n",
      "Row(Age=600.0, X=345.0, Y=48.0, Z=141.0, num=11.0, index=4)\n",
      "\n",
      "\n"
     ]
    }
   ],
   "source": [
    "centers = data.toPandas().sample(n=5)\n",
    "for i in range(0, 5):\n",
    "    mapResult = data.rdd.map(lambda x: map(x, centers))\n",
    "    \n",
    "    reduceResult = mapResult.reduceByKey(lambda a,b: reduce(a, b)).map(lambda q: computeMean(q))\n",
    "    e = reduceResult.toDF()\n",
    "    for f in e.collect():\n",
    "        print(f)\n",
    "    print()\n",
    "    print()\n",
    "    centers = e.toPandas()\n",
    "    error = data.rdd.map(lambda x: euclideanDistance())"
   ]
  },
  {
   "cell_type": "code",
   "execution_count": null,
   "metadata": {},
   "outputs": [],
   "source": []
  }
 ],
 "metadata": {
  "kernelspec": {
   "display_name": "Python 3 (ipykernel)",
   "language": "python",
   "name": "python3"
  },
  "language_info": {
   "codemirror_mode": {
    "name": "ipython",
    "version": 3
   },
   "file_extension": ".py",
   "mimetype": "text/x-python",
   "name": "python",
   "nbconvert_exporter": "python",
   "pygments_lexer": "ipython3",
   "version": "3.11.7"
  }
 },
 "nbformat": 4,
 "nbformat_minor": 4
}
