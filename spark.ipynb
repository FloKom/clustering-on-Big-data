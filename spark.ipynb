{
 "cells": [
  {
   "cell_type": "code",
   "execution_count": 1,
   "metadata": {},
   "outputs": [
    {
     "name": "stdout",
     "output_type": "stream",
     "text": [
      "Requirement already satisfied: pyspark in c:\\users\\komfl\\anaconda3\\lib\\site-packages (3.5.1)\n",
      "Requirement already satisfied: py4j==0.10.9.7 in c:\\users\\komfl\\anaconda3\\lib\\site-packages (from pyspark) (0.10.9.7)\n"
     ]
    }
   ],
   "source": [
    "!pip install pyspark"
   ]
  },
  {
   "cell_type": "code",
   "execution_count": 70,
   "metadata": {},
   "outputs": [],
   "source": [
    "import pyspark\n",
    "import pandas as pd\n",
    "from pyspark.sql.types import *"
   ]
  },
  {
   "cell_type": "code",
   "execution_count": 71,
   "metadata": {},
   "outputs": [],
   "source": [
    "import numpy as np\n",
    "from pyspark.sql import SparkSession\n"
   ]
  },
  {
   "cell_type": "code",
   "execution_count": 72,
   "metadata": {},
   "outputs": [],
   "source": [
    "import sys\n",
    "import math"
   ]
  },
  {
   "cell_type": "code",
   "execution_count": 2,
   "metadata": {},
   "outputs": [
    {
     "name": "stdout",
     "output_type": "stream",
     "text": [
      "Requirement already satisfied: findspark in c:\\users\\komfl\\anaconda3\\lib\\site-packages (2.0.1)\n"
     ]
    },
    {
     "data": {
      "text/plain": [
       "'c:\\\\Users\\\\komfl\\\\anaconda3\\\\Lib\\\\site-packages\\\\pyspark'"
      ]
     },
     "execution_count": 2,
     "metadata": {},
     "output_type": "execute_result"
    }
   ],
   "source": [
    "!pip install findspark\n",
    "import findspark\n",
    "findspark.init()\n",
    "findspark.find()"
   ]
  },
  {
   "cell_type": "code",
   "execution_count": 73,
   "metadata": {},
   "outputs": [],
   "source": [
    "spark=SparkSession.builder.appName('firstapp').getOrCreate()"
   ]
  },
  {
   "cell_type": "code",
   "execution_count": 74,
   "metadata": {},
   "outputs": [
    {
     "name": "stdout",
     "output_type": "stream",
     "text": [
      "+---+---+---+---+-----+\n",
      "|Age|  X|  Y|  Z|index|\n",
      "+---+---+---+---+-----+\n",
      "| 25|  5|  2|  3|    0|\n",
      "| 50| 15|  4|  9|    1|\n",
      "| 75| 30|  6| 15|    2|\n",
      "|100| 45|  8| 21|    3|\n",
      "|125| 60| 10| 27|    4|\n",
      "|150| 75| 12| 33|    5|\n",
      "|175| 90| 14| 39|    6|\n",
      "|200|105| 16| 45|    7|\n",
      "|225|120| 18| 51|    8|\n",
      "|250|135| 20| 57|    9|\n",
      "|275|150| 22| 63|   10|\n",
      "|300|165| 24| 69|   11|\n",
      "|325|180| 26| 75|   12|\n",
      "|350|195| 28| 81|   13|\n",
      "|375|210| 30| 87|   14|\n",
      "|400|225| 32| 93|   15|\n",
      "|425|240| 34| 99|   16|\n",
      "|450|255| 36|105|   17|\n",
      "|475|270| 38|111|   18|\n",
      "|500|285| 40|117|   19|\n",
      "+---+---+---+---+-----+\n",
      "only showing top 20 rows\n",
      "\n"
     ]
    }
   ],
   "source": [
    "#load the dataset and add an index for each rows\n",
    "data = spark.read.csv('./test.csv', header=True, inferSchema=True)\n",
    "data = data.drop('Name')\n",
    "df = data.toPandas()\n",
    "df_index = pd.DataFrame({'index': range(0, len(df))})\n",
    "result_df = pd.concat([df, df_index], axis=1)\n",
    "data = spark.createDataFrame(result_df)\n",
    "# asf = spark.createDataFrame(ee)\n",
    "# asf.show()"
   ]
  },
  {
   "cell_type": "code",
   "execution_count": 118,
   "metadata": {},
   "outputs": [
    {
     "data": {
      "text/html": [
       "<div>\n",
       "<style scoped>\n",
       "    .dataframe tbody tr th:only-of-type {\n",
       "        vertical-align: middle;\n",
       "    }\n",
       "\n",
       "    .dataframe tbody tr th {\n",
       "        vertical-align: top;\n",
       "    }\n",
       "\n",
       "    .dataframe thead th {\n",
       "        text-align: right;\n",
       "    }\n",
       "</style>\n",
       "<table border=\"1\" class=\"dataframe\">\n",
       "  <thead>\n",
       "    <tr style=\"text-align: right;\">\n",
       "      <th></th>\n",
       "      <th>Age</th>\n",
       "      <th>X</th>\n",
       "      <th>Y</th>\n",
       "      <th>Z</th>\n",
       "      <th>index</th>\n",
       "    </tr>\n",
       "  </thead>\n",
       "  <tbody>\n",
       "    <tr>\n",
       "      <th>11</th>\n",
       "      <td>300</td>\n",
       "      <td>165</td>\n",
       "      <td>24</td>\n",
       "      <td>69</td>\n",
       "      <td>11</td>\n",
       "    </tr>\n",
       "    <tr>\n",
       "      <th>25</th>\n",
       "      <td>650</td>\n",
       "      <td>375</td>\n",
       "      <td>52</td>\n",
       "      <td>153</td>\n",
       "      <td>25</td>\n",
       "    </tr>\n",
       "    <tr>\n",
       "      <th>13</th>\n",
       "      <td>350</td>\n",
       "      <td>195</td>\n",
       "      <td>28</td>\n",
       "      <td>81</td>\n",
       "      <td>13</td>\n",
       "    </tr>\n",
       "    <tr>\n",
       "      <th>23</th>\n",
       "      <td>600</td>\n",
       "      <td>345</td>\n",
       "      <td>48</td>\n",
       "      <td>141</td>\n",
       "      <td>23</td>\n",
       "    </tr>\n",
       "    <tr>\n",
       "      <th>4</th>\n",
       "      <td>125</td>\n",
       "      <td>60</td>\n",
       "      <td>10</td>\n",
       "      <td>27</td>\n",
       "      <td>4</td>\n",
       "    </tr>\n",
       "  </tbody>\n",
       "</table>\n",
       "</div>"
      ],
      "text/plain": [
       "    Age    X   Y    Z  index\n",
       "11  300  165  24   69     11\n",
       "25  650  375  52  153     25\n",
       "13  350  195  28   81     13\n",
       "23  600  345  48  141     23\n",
       "4   125   60  10   27      4"
      ]
     },
     "execution_count": 118,
     "metadata": {},
     "output_type": "execute_result"
    }
   ],
   "source": [
    "#Select randomly five initials centroids\n",
    "centers = data.toPandas().sample(n=5)\n",
    "centers\n",
    "# npCenters = spark.createDataFrame(interDf)\n",
    "# centers = npCenters"
   ]
  },
  {
   "cell_type": "code",
   "execution_count": 132,
   "metadata": {},
   "outputs": [
    {
     "name": "stdout",
     "output_type": "stream",
     "text": [
      "{'Age': 25, 'X': 5, 'Y': 2, 'Z': 3}\n",
      "Row(Age=25, X=5, Y=2, Z=3)\n",
      "Row(Age=25, X=5, Y=2, Z=3, index=0)\n",
      "{'Age': 50, 'X': 15, 'Y': 4, 'Z': 9}\n",
      "Row(Age=50, X=15, Y=4, Z=9)\n",
      "Row(Age=50, X=15, Y=4, Z=9, index=1)\n",
      "{'Age': 75, 'X': 30, 'Y': 6, 'Z': 15}\n",
      "Row(Age=75, X=30, Y=6, Z=15)\n",
      "Row(Age=75, X=30, Y=6, Z=15, index=2)\n",
      "{'Age': 100, 'X': 45, 'Y': 8, 'Z': 21}\n",
      "Row(Age=100, X=45, Y=8, Z=21)\n",
      "Row(Age=100, X=45, Y=8, Z=21, index=3)\n",
      "{'Age': 125, 'X': 60, 'Y': 10, 'Z': 27}\n",
      "Row(Age=125, X=60, Y=10, Z=27)\n",
      "Row(Age=125, X=60, Y=10, Z=27, index=4)\n",
      "{'Age': 150, 'X': 75, 'Y': 12, 'Z': 33}\n",
      "Row(Age=150, X=75, Y=12, Z=33)\n",
      "Row(Age=150, X=75, Y=12, Z=33, index=5)\n",
      "{'Age': 175, 'X': 90, 'Y': 14, 'Z': 39}\n",
      "Row(Age=175, X=90, Y=14, Z=39)\n",
      "Row(Age=175, X=90, Y=14, Z=39, index=6)\n",
      "{'Age': 200, 'X': 105, 'Y': 16, 'Z': 45}\n",
      "Row(Age=200, X=105, Y=16, Z=45)\n",
      "Row(Age=200, X=105, Y=16, Z=45, index=7)\n",
      "{'Age': 225, 'X': 120, 'Y': 18, 'Z': 51}\n",
      "Row(Age=225, X=120, Y=18, Z=51)\n",
      "Row(Age=225, X=120, Y=18, Z=51, index=8)\n",
      "{'Age': 250, 'X': 135, 'Y': 20, 'Z': 57}\n",
      "Row(Age=250, X=135, Y=20, Z=57)\n",
      "Row(Age=250, X=135, Y=20, Z=57, index=9)\n",
      "{'Age': 275, 'X': 150, 'Y': 22, 'Z': 63}\n",
      "Row(Age=275, X=150, Y=22, Z=63)\n",
      "Row(Age=275, X=150, Y=22, Z=63, index=10)\n",
      "{'Age': 300, 'X': 165, 'Y': 24, 'Z': 69}\n",
      "Row(Age=300, X=165, Y=24, Z=69)\n",
      "Row(Age=300, X=165, Y=24, Z=69, index=11)\n",
      "{'Age': 325, 'X': 180, 'Y': 26, 'Z': 75}\n",
      "Row(Age=325, X=180, Y=26, Z=75)\n",
      "Row(Age=325, X=180, Y=26, Z=75, index=12)\n",
      "{'Age': 350, 'X': 195, 'Y': 28, 'Z': 81}\n",
      "Row(Age=350, X=195, Y=28, Z=81)\n",
      "Row(Age=350, X=195, Y=28, Z=81, index=13)\n",
      "{'Age': 375, 'X': 210, 'Y': 30, 'Z': 87}\n",
      "Row(Age=375, X=210, Y=30, Z=87)\n",
      "Row(Age=375, X=210, Y=30, Z=87, index=14)\n",
      "{'Age': 400, 'X': 225, 'Y': 32, 'Z': 93}\n",
      "Row(Age=400, X=225, Y=32, Z=93)\n",
      "Row(Age=400, X=225, Y=32, Z=93, index=15)\n",
      "{'Age': 425, 'X': 240, 'Y': 34, 'Z': 99}\n",
      "Row(Age=425, X=240, Y=34, Z=99)\n",
      "Row(Age=425, X=240, Y=34, Z=99, index=16)\n",
      "{'Age': 450, 'X': 255, 'Y': 36, 'Z': 105}\n",
      "Row(Age=450, X=255, Y=36, Z=105)\n",
      "Row(Age=450, X=255, Y=36, Z=105, index=17)\n",
      "{'Age': 475, 'X': 270, 'Y': 38, 'Z': 111}\n",
      "Row(Age=475, X=270, Y=38, Z=111)\n",
      "Row(Age=475, X=270, Y=38, Z=111, index=18)\n",
      "{'Age': 500, 'X': 285, 'Y': 40, 'Z': 117}\n",
      "Row(Age=500, X=285, Y=40, Z=117)\n",
      "Row(Age=500, X=285, Y=40, Z=117, index=19)\n",
      "{'Age': 525, 'X': 300, 'Y': 42, 'Z': 123}\n",
      "Row(Age=525, X=300, Y=42, Z=123)\n",
      "Row(Age=525, X=300, Y=42, Z=123, index=20)\n",
      "{'Age': 550, 'X': 315, 'Y': 44, 'Z': 129}\n",
      "Row(Age=550, X=315, Y=44, Z=129)\n",
      "Row(Age=550, X=315, Y=44, Z=129, index=21)\n",
      "{'Age': 575, 'X': 330, 'Y': 46, 'Z': 135}\n",
      "Row(Age=575, X=330, Y=46, Z=135)\n",
      "Row(Age=575, X=330, Y=46, Z=135, index=22)\n",
      "{'Age': 600, 'X': 345, 'Y': 48, 'Z': 141}\n",
      "Row(Age=600, X=345, Y=48, Z=141)\n",
      "Row(Age=600, X=345, Y=48, Z=141, index=23)\n",
      "{'Age': 625, 'X': 360, 'Y': 50, 'Z': 147}\n",
      "Row(Age=625, X=360, Y=50, Z=147)\n",
      "Row(Age=625, X=360, Y=50, Z=147, index=24)\n",
      "{'Age': 650, 'X': 375, 'Y': 52, 'Z': 153}\n",
      "Row(Age=650, X=375, Y=52, Z=153)\n",
      "Row(Age=650, X=375, Y=52, Z=153, index=25)\n",
      "{'Age': 675, 'X': 390, 'Y': 54, 'Z': 159}\n",
      "Row(Age=675, X=390, Y=54, Z=159)\n",
      "Row(Age=675, X=390, Y=54, Z=159, index=26)\n",
      "{'Age': 700, 'X': 405, 'Y': 56, 'Z': 165}\n",
      "Row(Age=700, X=405, Y=56, Z=165)\n",
      "Row(Age=700, X=405, Y=56, Z=165, index=27)\n",
      "{'Age': 725, 'X': 420, 'Y': 58, 'Z': 171}\n",
      "Row(Age=725, X=420, Y=58, Z=171)\n",
      "Row(Age=725, X=420, Y=58, Z=171, index=28)\n"
     ]
    }
   ],
   "source": [
    "for g in data.collect():\n",
    "    a = g.asDict()\n",
    "    del a['index']\n",
    "    print(a)\n",
    "    l = Row(**a)\n",
    "    print(l)\n",
    "    print(g)"
   ]
  },
  {
   "cell_type": "code",
   "execution_count": 141,
   "metadata": {},
   "outputs": [
    {
     "name": "stdout",
     "output_type": "stream",
     "text": [
      "Row(_1=23, _2=Row(data=[Row(Age=500, X=285, Y=40, Z=117, num=1), Row(Age=525, X=300, Y=42, Z=123, num=1), Row(Age=550, X=315, Y=44, Z=129, num=1), Row(Age=575, X=330, Y=46, Z=135, num=1), Row(Age=600, X=345, Y=48, Z=141, num=1)], index=0, maxindex=5))\n",
      "Row(_1=4, _2=Row(data=[Row(Age=25, X=5, Y=2, Z=3, num=1), Row(Age=50, X=15, Y=4, Z=9, num=1), Row(Age=75, X=30, Y=6, Z=15, num=1), Row(Age=100, X=45, Y=8, Z=21, num=1), Row(Age=125, X=60, Y=10, Z=27, num=1), Row(Age=150, X=75, Y=12, Z=33, num=1), Row(Age=175, X=90, Y=14, Z=39, num=1), Row(Age=200, X=105, Y=16, Z=45, num=1)], index=0, maxindex=8))\n",
      "Row(_1=25, _2=Row(data=[Row(Age=625, X=360, Y=50, Z=147, num=1), Row(Age=650, X=375, Y=52, Z=153, num=1), Row(Age=675, X=390, Y=54, Z=159, num=1), Row(Age=700, X=405, Y=56, Z=165, num=1), Row(Age=725, X=420, Y=58, Z=171, num=1)], index=0, maxindex=5))\n",
      "Row(_1=11, _2=Row(data=[Row(Age=225, X=120, Y=18, Z=51, num=1), Row(Age=250, X=135, Y=20, Z=57, num=1), Row(Age=275, X=150, Y=22, Z=63, num=1), Row(Age=300, X=165, Y=24, Z=69, num=1), Row(Age=325, X=180, Y=26, Z=75, num=1)], index=0, maxindex=5))\n",
      "Row(_1=13, _2=Row(data=[Row(Age=350, X=195, Y=28, Z=81, num=1), Row(Age=375, X=210, Y=30, Z=87, num=1), Row(Age=400, X=225, Y=32, Z=93, num=1), Row(Age=425, X=240, Y=34, Z=99, num=1), Row(Age=450, X=255, Y=36, Z=105, num=1), Row(Age=475, X=270, Y=38, Z=111, num=1)], index=0, maxindex=6))\n"
     ]
    }
   ],
   "source": [
    "#Map operation\n",
    "cols = [item for item in data.columns if(item != 'index')]\n",
    "def map(x):\n",
    "    minDist = sys.float_info.max\n",
    "    index = -1\n",
    "    for i, center in centers.iterrows():\n",
    "        distCenter = 0\n",
    "        for column in cols:\n",
    "            distCenter = distCenter + (x[column] - center[column])**2\n",
    "        distCenter = math.sqrt(distCenter)\n",
    "        if(minDist > distCenter):\n",
    "             minDist = distCenter\n",
    "             index = i\n",
    "        y = x.asDict()\n",
    "        # del y['index']\n",
    "        y['num'] = 1\n",
    "        toSave = Row(**y)         \n",
    "    return (index, toSave)\n",
    "rdd = data.rdd.map(lambda x: map(x)).groupByKey()\n",
    "e = rdd.toDF()\n",
    "for f in e.collect():\n",
    "    print(f)\n"
   ]
  },
  {
   "cell_type": "code",
   "execution_count": 145,
   "metadata": {},
   "outputs": [
    {
     "name": "stdout",
     "output_type": "stream",
     "text": [
      "Row(_1=23, _2=Row(Age=2750.0, X=1575.0, Y=220.0, Z=645.0, num=5))\n",
      "Row(_1=4, _2=Row(Age=900.0, X=425.0, Y=72.0, Z=192.0, num=8))\n",
      "Row(_1=25, _2=Row(Age=3375.0, X=1950.0, Y=270.0, Z=795.0, num=5))\n",
      "Row(_1=11, _2=Row(Age=1375.0, X=750.0, Y=110.0, Z=315.0, num=5))\n",
      "Row(_1=13, _2=Row(Age=2475.0, X=1395.0, Y=198.0, Z=576.0, num=6))\n"
     ]
    }
   ],
   "source": [
    "def reduce(a, b):\n",
    "    c = {}\n",
    "    for column in cols:\n",
    "        c[column] = float(a[column]) + float(b[column])\n",
    "    c['num'] = a['num'] + b['num']\n",
    "    toSave = Row(**c)\n",
    "    return toSave\n",
    "rdd = data.rdd.map(lambda x: map(x)).reduceByKey(lambda a,b: reduce(a, b))\n",
    "e = rdd.toDF()\n",
    "for f in e.collect():\n",
    "    g = f.asDict()\n",
    "    for col in cols:\n",
    "        g[col] = g[col]/g['num']\n",
    "    print(g)\n"
   ]
  },
  {
   "cell_type": "code",
   "execution_count": 147,
   "metadata": {},
   "outputs": [
    {
     "name": "stdout",
     "output_type": "stream",
     "text": [
      "{'Age': 550.0, 'X': 315.0, 'Y': 44.0, 'Z': 129.0, 'num': 5}\n",
      "{'Age': 112.5, 'X': 53.125, 'Y': 9.0, 'Z': 24.0, 'num': 8}\n",
      "{'Age': 675.0, 'X': 390.0, 'Y': 54.0, 'Z': 159.0, 'num': 5}\n",
      "{'Age': 275.0, 'X': 150.0, 'Y': 22.0, 'Z': 63.0, 'num': 5}\n",
      "{'Age': 412.5, 'X': 232.5, 'Y': 33.0, 'Z': 96.0, 'num': 6}\n"
     ]
    }
   ],
   "source": [
    "for f in e.collect():\n",
    "    g = f['_2'].asDict()\n",
    "    for col in cols:\n",
    "        g[col] = g[col]/g['num']\n",
    "    print(g)\n"
   ]
  },
  {
   "cell_type": "code",
   "execution_count": 148,
   "metadata": {},
   "outputs": [
    {
     "data": {
      "text/html": [
       "<div>\n",
       "<style scoped>\n",
       "    .dataframe tbody tr th:only-of-type {\n",
       "        vertical-align: middle;\n",
       "    }\n",
       "\n",
       "    .dataframe tbody tr th {\n",
       "        vertical-align: top;\n",
       "    }\n",
       "\n",
       "    .dataframe thead th {\n",
       "        text-align: right;\n",
       "    }\n",
       "</style>\n",
       "<table border=\"1\" class=\"dataframe\">\n",
       "  <thead>\n",
       "    <tr style=\"text-align: right;\">\n",
       "      <th></th>\n",
       "      <th>Age</th>\n",
       "      <th>X</th>\n",
       "      <th>Y</th>\n",
       "      <th>Z</th>\n",
       "      <th>index</th>\n",
       "    </tr>\n",
       "  </thead>\n",
       "  <tbody>\n",
       "    <tr>\n",
       "      <th>11</th>\n",
       "      <td>300</td>\n",
       "      <td>165</td>\n",
       "      <td>24</td>\n",
       "      <td>69</td>\n",
       "      <td>11</td>\n",
       "    </tr>\n",
       "    <tr>\n",
       "      <th>25</th>\n",
       "      <td>650</td>\n",
       "      <td>375</td>\n",
       "      <td>52</td>\n",
       "      <td>153</td>\n",
       "      <td>25</td>\n",
       "    </tr>\n",
       "    <tr>\n",
       "      <th>13</th>\n",
       "      <td>350</td>\n",
       "      <td>195</td>\n",
       "      <td>28</td>\n",
       "      <td>81</td>\n",
       "      <td>13</td>\n",
       "    </tr>\n",
       "    <tr>\n",
       "      <th>23</th>\n",
       "      <td>600</td>\n",
       "      <td>345</td>\n",
       "      <td>48</td>\n",
       "      <td>141</td>\n",
       "      <td>23</td>\n",
       "    </tr>\n",
       "    <tr>\n",
       "      <th>4</th>\n",
       "      <td>125</td>\n",
       "      <td>60</td>\n",
       "      <td>10</td>\n",
       "      <td>27</td>\n",
       "      <td>4</td>\n",
       "    </tr>\n",
       "  </tbody>\n",
       "</table>\n",
       "</div>"
      ],
      "text/plain": [
       "    Age    X   Y    Z  index\n",
       "11  300  165  24   69     11\n",
       "25  650  375  52  153     25\n",
       "13  350  195  28   81     13\n",
       "23  600  345  48  141     23\n",
       "4   125   60  10   27      4"
      ]
     },
     "execution_count": 148,
     "metadata": {},
     "output_type": "execute_result"
    }
   ],
   "source": [
    "centers"
   ]
  }
 ],
 "metadata": {
  "kernelspec": {
   "display_name": "Python 3 (ipykernel)",
   "language": "python",
   "name": "python3"
  },
  "language_info": {
   "codemirror_mode": {
    "name": "ipython",
    "version": 3
   },
   "file_extension": ".py",
   "mimetype": "text/x-python",
   "name": "python",
   "nbconvert_exporter": "python",
   "pygments_lexer": "ipython3",
   "version": "3.11.5"
  }
 },
 "nbformat": 4,
 "nbformat_minor": 4
}
